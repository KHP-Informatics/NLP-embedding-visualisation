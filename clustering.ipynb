{
 "cells": [
  {
   "cell_type": "markdown",
   "metadata": {},
   "source": [
    "# Clustering of patients\n",
    "This notebook accompanies the paper \"Hospital-wide Natural Language Processing summarising the health data of 1 million patients\". Due to the sensitivity of the data used in the paper we are unable to share the data. The NLP dataset was produced using the [MedCAT library](https://github.com/CogStack/MedCAT).\n",
    "\n",
    "More details of the data are available in the paper and are described in the [HDRUK Gateway](https://web.www.healthdatagateway.org/dataset/4e8d4fed-69d6-402c-bd0a-163c23d6b0ee)."
   ]
  },
  {
   "cell_type": "code",
   "execution_count": null,
   "metadata": {},
   "outputs": [],
   "source": [
    "import pickle\n",
    "import pandas as pd\n",
    "from collections import defaultdict\n",
    "import numpy as np\n",
    "from sklearn.decomposition import PCA\n",
    "from sklearn.manifold import TSNE\n",
    "import matplotlib.pyplot as plt"
   ]
  },
  {
   "cell_type": "code",
   "execution_count": null,
   "metadata": {},
   "outputs": [],
   "source": [
    "from sklearn.cluster import AgglomerativeClustering\n",
    "from sklearn.neighbors import kneighbors_graph"
   ]
  },
  {
   "cell_type": "code",
   "execution_count": null,
   "metadata": {},
   "outputs": [],
   "source": [
    "%matplotlib inline"
   ]
  },
  {
   "cell_type": "code",
   "execution_count": null,
   "metadata": {},
   "outputs": [],
   "source": [
    "min_count = 2 # minimum number of detections for a concept to be considered true at patient level\n",
    "min_pts = 100 # minimum number of patients with a concept for it to be included in the embedding\n",
    "subsample = True # whether to run analysis on a sample (True) or all (False) patients\n",
    "sample_size = 100000 # size of sample in number of patients if subsample is true"
   ]
  },
  {
   "cell_type": "code",
   "execution_count": null,
   "metadata": {},
   "outputs": [],
   "source": [
    "# load your patient data\n",
    "# a dict with { patient_id : { concept_id: number_of_mentions }}\n",
    "# this cannot be distributed due to patient privacy\n",
    "with open('./path/to/data.pickle', 'rb') as f:\n",
    "    counts = pickle.load(f)"
   ]
  },
  {
   "cell_type": "code",
   "execution_count": null,
   "metadata": {},
   "outputs": [],
   "source": [
    "# a file containing all disorder codes in SNOMED\n",
    "# this cannot be distributed due to licensing\n",
    "with open('./path/to/disorders.csv', 'rb') as f:\n",
    "    disorder_cui = pickle.load(f)"
   ]
  },
  {
   "cell_type": "code",
   "execution_count": null,
   "metadata": {},
   "outputs": [],
   "source": [
    "if subsample:\n",
    "    sample_pts = np.random.choice(list(counts.keys()), sample_size, False)\n",
    "else:\n",
    "    sample_pts = list(counts.keys())"
   ]
  },
  {
   "cell_type": "code",
   "execution_count": null,
   "metadata": {},
   "outputs": [],
   "source": [
    "all_concepts = defaultdict(int)"
   ]
  },
  {
   "cell_type": "code",
   "execution_count": null,
   "metadata": {},
   "outputs": [],
   "source": [
    "#number of patients with each concept detected\n",
    "for cnt in counts.values():\n",
    "    for c, v in cnt.items():\n",
    "        if v >= min_count:\n",
    "            all_concepts[c] += 1"
   ]
  },
  {
   "cell_type": "code",
   "execution_count": null,
   "metadata": {},
   "outputs": [],
   "source": [
    "len(all_concepts) # 26842"
   ]
  },
  {
   "cell_type": "markdown",
   "metadata": {},
   "source": [
    "# Prepare input data\n",
    "## disease concepts only, 1k threshold"
   ]
  },
  {
   "cell_type": "code",
   "execution_count": null,
   "metadata": {},
   "outputs": [],
   "source": [
    "def embed_count(counts, order):\n",
    "    x = [counts.get(c, 0) for c in order]\n",
    "    return x"
   ]
  },
  {
   "cell_type": "code",
   "execution_count": null,
   "metadata": {},
   "outputs": [],
   "source": [
    "cui_keep = [x for x in all_concepts if all_concepts[x] >= 1000 and x in disorder_cui]\n",
    "print(len(cui_keep)) #872"
   ]
  },
  {
   "cell_type": "code",
   "execution_count": null,
   "metadata": {},
   "outputs": [],
   "source": [
    "embedded = [embed_count(counts[x], cui_keep) for x in sample_pts]"
   ]
  },
  {
   "cell_type": "code",
   "execution_count": null,
   "metadata": {},
   "outputs": [],
   "source": [
    "data = np.array(embedded)\n",
    "data = data[data.sum(axis=1) != 0, :] #remove patients with no detections for these concepts"
   ]
  },
  {
   "cell_type": "code",
   "execution_count": null,
   "metadata": {},
   "outputs": [],
   "source": [
    "data.sum() #3261699"
   ]
  },
  {
   "cell_type": "code",
   "execution_count": null,
   "metadata": {},
   "outputs": [],
   "source": [
    "pt_totals = np.sum(data, axis=1)"
   ]
  },
  {
   "cell_type": "code",
   "execution_count": null,
   "metadata": {},
   "outputs": [],
   "source": [
    "pt_totals.shape[0] # 87050"
   ]
  },
  {
   "cell_type": "code",
   "execution_count": null,
   "metadata": {},
   "outputs": [],
   "source": [
    "data_norm = (data.T / pt_totals).T"
   ]
  },
  {
   "cell_type": "markdown",
   "metadata": {},
   "source": [
    "# PCA -> TSNE"
   ]
  },
  {
   "cell_type": "code",
   "execution_count": null,
   "metadata": {},
   "outputs": [],
   "source": [
    "per = 200\n",
    "it = 1000\n",
    "metric = 'cosine'\n",
    "pca = PCA(n_components=50)\n",
    "data_pca_sample = pca.fit_transform(data_norm)\n",
    "tsne_sample = TSNE(n_components=2, n_jobs=20, perplexity=per, n_iter=it, metric=metric, init ='pca', learning_rate='auto',).fit_transform(data_pca_sample)"
   ]
  },
  {
   "cell_type": "markdown",
   "metadata": {},
   "source": [
    "# Clustering"
   ]
  },
  {
   "cell_type": "code",
   "execution_count": null,
   "metadata": {},
   "outputs": [],
   "source": [
    "n_clusters = 50"
   ]
  },
  {
   "cell_type": "code",
   "execution_count": null,
   "metadata": {},
   "outputs": [],
   "source": [
    "knn_graph = kneighbors_graph(tsne_sample, 100, include_self=False)\n",
    "\n",
    "ward = AgglomerativeClustering(\n",
    "    n_clusters=n_clusters, linkage=\"ward\", connectivity=knn_graph\n",
    ")\n",
    "\n",
    "ward.fit(tsne_sample)"
   ]
  },
  {
   "cell_type": "markdown",
   "metadata": {},
   "source": [
    "# Figures"
   ]
  },
  {
   "cell_type": "code",
   "execution_count": null,
   "metadata": {},
   "outputs": [],
   "source": [
    "# basic scatter plot \n",
    "\n",
    "fig, axs = plt.subplots()\n",
    "axs.scatter(x=tsne_sample[:,0], y=tsne_sample[:,1])\n",
    "bbox_props = dict(boxstyle=\"round\", fc=\"w\", ec=\"0.5\", alpha=0.9)\n",
    "axs.set_title(f\"Clusters = {n_clusters}\")\n",
    "fig.set_size_inches(10, 10)\n",
    "plt.savefig('./path/to/figure.png')"
   ]
  },
  {
   "cell_type": "code",
   "execution_count": null,
   "metadata": {},
   "outputs": [],
   "source": [
    "#adding cluster labels\n",
    "\n",
    "fig, axs = plt.subplots()\n",
    "axs.scatter(x=tsne_sample[:,0], y=tsne_sample[:,1], c=ward.labels_, cmap=plt.cm.nipy_spectral)\n",
    "bbox_props = dict(boxstyle=\"round\", fc=\"w\", ec=\"0.5\", alpha=0.9)\n",
    "\n",
    "for x in range(n_clusters):\n",
    "    w = [c == x for c in ward.labels_]\n",
    "    cl = tsne_sample[w,:]\n",
    "    cen = cl.mean(axis=0)\n",
    "    #ax.annotate(x, cen)\n",
    "    axs.text(cen[0], cen[1],str(x), ha=\"center\", va=\"center\", size=20, bbox=bbox_props)\n",
    "axs.set_title(f\"Clusters = {n_clusters}\")\n",
    "fig.set_size_inches(10, 10)\n",
    "plt.savefig('./path/to/figure_labelled.png')"
   ]
  },
  {
   "cell_type": "code",
   "execution_count": null,
   "metadata": {},
   "outputs": [],
   "source": []
  },
  {
   "cell_type": "code",
   "execution_count": null,
   "metadata": {},
   "outputs": [],
   "source": []
  }
 ],
 "metadata": {
  "kernelspec": {
   "display_name": "Python 3",
   "language": "python",
   "name": "python3"
  },
  "language_info": {
   "codemirror_mode": {
    "name": "ipython",
    "version": 3
   },
   "file_extension": ".py",
   "mimetype": "text/x-python",
   "name": "python",
   "nbconvert_exporter": "python",
   "pygments_lexer": "ipython3",
   "version": "3.7.1"
  }
 },
 "nbformat": 4,
 "nbformat_minor": 2
}
